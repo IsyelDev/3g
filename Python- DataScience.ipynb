{
 "cells": [
  {
   "cell_type": "markdown",
   "id": "95e6f49d-94e1-418f-bff8-e5df4e5575b3",
   "metadata": {
    "tags": []
   },
   "source": [
    "## 1. Variables"
   ]
  },
  {
   "cell_type": "markdown",
   "id": "d8dd37ea-6749-4695-8b9f-ded141fe889d",
   "metadata": {},
   "source": [
    "Sumar 10+ 30"
   ]
  },
  {
   "cell_type": "code",
   "execution_count": null,
   "id": "d1661814-37e0-4975-ac92-fb77651a6b49",
   "metadata": {
    "tags": []
   },
   "outputs": [],
   "source": []
  },
  {
   "cell_type": "markdown",
   "id": "48fe2cd1-1c7e-4ed6-be72-d3b489e97198",
   "metadata": {
    "tags": []
   },
   "source": [
    "Declara la variable \"sueldo\", debe valer 16000"
   ]
  },
  {
   "cell_type": "code",
   "execution_count": null,
   "id": "e364bce9-0877-4d16-8087-10f44d16d3dd",
   "metadata": {
    "tags": []
   },
   "outputs": [],
   "source": []
  },
  {
   "cell_type": "markdown",
   "id": "a5e52d65-574a-4eff-9428-07ed9cb02dbf",
   "metadata": {},
   "source": [
    "Mostrar la variable sueldo"
   ]
  },
  {
   "cell_type": "code",
   "execution_count": null,
   "id": "730bc6a8-cf71-4ba5-a971-2c268314d11e",
   "metadata": {
    "tags": []
   },
   "outputs": [],
   "source": []
  },
  {
   "cell_type": "markdown",
   "id": "974d386a-9bb5-40ce-b4c7-8b71cc7311d4",
   "metadata": {},
   "source": [
    "Declarar la variable \"bono\", debe valer 4000"
   ]
  },
  {
   "cell_type": "code",
   "execution_count": null,
   "id": "b188e3a9-ca4f-47f1-b678-001eed67d8e9",
   "metadata": {
    "tags": []
   },
   "outputs": [],
   "source": []
  },
  {
   "cell_type": "markdown",
   "id": "3b46908c-0f68-4c84-84ee-203ad1429274",
   "metadata": {},
   "source": [
    "Declarar la variable total, debe ser la suma de sueldo y bono"
   ]
  },
  {
   "cell_type": "code",
   "execution_count": null,
   "id": "906243ad-3994-483d-b9c8-8dd97bbbb06a",
   "metadata": {
    "tags": []
   },
   "outputs": [],
   "source": []
  },
  {
   "cell_type": "markdown",
   "id": "972cca46-67b6-47a1-8435-00f0b227258f",
   "metadata": {
    "tags": []
   },
   "source": [
    "Declarar la variable \"neto\", debe ser el resultado de restar 2000 al sueldo total"
   ]
  },
  {
   "cell_type": "code",
   "execution_count": null,
   "id": "b4f2dfcb-be2e-44a3-bc60-536138bddf4c",
   "metadata": {
    "tags": []
   },
   "outputs": [],
   "source": []
  },
  {
   "cell_type": "markdown",
   "id": "4df59d0e-be9c-41cc-aa7e-141ed452aacb",
   "metadata": {
    "tags": []
   },
   "source": [
    "Declarar la variable \"anual\", debe ser el resultado de multiplicar neto por 12"
   ]
  },
  {
   "cell_type": "code",
   "execution_count": null,
   "id": "503bbcaa-778d-4720-9878-16224ec64e5c",
   "metadata": {
    "tags": []
   },
   "outputs": [],
   "source": []
  },
  {
   "cell_type": "markdown",
   "id": "250f2a2b-06c9-4ac8-b82c-422e1009390e",
   "metadata": {
    "tags": []
   },
   "source": [
    "Declarar la variable \"diario\", debe ser el resultado de dividir neto entre 30"
   ]
  },
  {
   "cell_type": "code",
   "execution_count": null,
   "id": "7ac394d6-5a0c-4f34-ad86-279fad732771",
   "metadata": {
    "tags": []
   },
   "outputs": [],
   "source": []
  },
  {
   "cell_type": "markdown",
   "id": "7a14559a-732d-48c3-a58e-cb0757251df0",
   "metadata": {
    "tags": []
   },
   "source": [
    "Usar el operador \"<\" para calcular si el sueldo diario es menor a 700"
   ]
  },
  {
   "cell_type": "code",
   "execution_count": null,
   "id": "33197b59-3187-4ad4-ba28-cc341696a405",
   "metadata": {
    "tags": []
   },
   "outputs": [],
   "source": []
  },
  {
   "cell_type": "markdown",
   "id": "2a41875a-27be-4639-93cd-fd5ec11d3c45",
   "metadata": {},
   "source": [
    "Usar el operador \">\" para calcular si el sueldo diario es mayor a 1000"
   ]
  },
  {
   "cell_type": "code",
   "execution_count": null,
   "id": "3eae77db-a1e3-4cc3-9ce4-33fd7d931cea",
   "metadata": {
    "tags": []
   },
   "outputs": [],
   "source": []
  },
  {
   "cell_type": "markdown",
   "id": "c1c1a66b-f3f5-49d0-8c52-87e375430c53",
   "metadata": {},
   "source": [
    "## 2. Cadenas "
   ]
  },
  {
   "cell_type": "markdown",
   "id": "17772919-efb5-4471-9483-a1cbf7d7e33a",
   "metadata": {},
   "source": [
    "Declarar la variable \"hola\", debe contener \"hola mundo\""
   ]
  },
  {
   "cell_type": "code",
   "execution_count": null,
   "id": "0b31b38e-dd5f-4992-b86e-25b41b586cce",
   "metadata": {
    "tags": []
   },
   "outputs": [],
   "source": []
  },
  {
   "cell_type": "markdown",
   "id": "9b724430-0a39-4695-b9ca-ed85db2ce485",
   "metadata": {},
   "source": [
    "Mostrar la variable hola usando la funcion print"
   ]
  },
  {
   "cell_type": "code",
   "execution_count": null,
   "id": "9e943874-40e2-4a46-8164-8c2bf35b19f5",
   "metadata": {
    "tags": []
   },
   "outputs": [],
   "source": []
  },
  {
   "cell_type": "markdown",
   "id": "e6cc4783-cdb6-4918-a8ee-6cd6dee84bc0",
   "metadata": {
    "tags": []
   },
   "source": [
    "Mostrar un texto usando saltos de líneas"
   ]
  },
  {
   "cell_type": "code",
   "execution_count": null,
   "id": "72674494-40f3-4b60-bd67-799a537b9fa8",
   "metadata": {
    "tags": []
   },
   "outputs": [],
   "source": []
  },
  {
   "cell_type": "markdown",
   "id": "0cd3c424-8da0-4b9c-abed-15cf0d3b4290",
   "metadata": {},
   "source": [
    "Declarar la variable nombre"
   ]
  },
  {
   "cell_type": "code",
   "execution_count": null,
   "id": "5384f1af-70b1-4774-86bf-e7d79086f372",
   "metadata": {
    "tags": []
   },
   "outputs": [],
   "source": []
  },
  {
   "cell_type": "markdown",
   "id": "ade358ae-e3cb-4ad2-9dce-5f1d4800d889",
   "metadata": {},
   "source": [
    "Usar print y la variable \"nombre\" para mostrar \"Hola Dan\""
   ]
  },
  {
   "cell_type": "code",
   "execution_count": null,
   "id": "49e3ee32-2dd7-4956-86aa-c0fea805e494",
   "metadata": {
    "tags": []
   },
   "outputs": [],
   "source": []
  },
  {
   "cell_type": "markdown",
   "id": "fbecf8f8-b7c6-4d9d-be48-5a868f583bd6",
   "metadata": {},
   "source": [
    "Volver a mostrar el texto anterior, usando formatted string literals"
   ]
  },
  {
   "cell_type": "code",
   "execution_count": null,
   "id": "2b1bb6d0-7ac4-4f9c-95df-429201c4cb5a",
   "metadata": {
    "tags": []
   },
   "outputs": [],
   "source": []
  },
  {
   "cell_type": "markdown",
   "id": "3035e7b1-fb42-41a5-af22-f1df07f0cbee",
   "metadata": {},
   "source": [
    "Repetir la cadena \"nombre\" 4 veces"
   ]
  },
  {
   "cell_type": "code",
   "execution_count": null,
   "id": "a28cba42-dc08-4803-85cf-186d861d18e7",
   "metadata": {
    "tags": []
   },
   "outputs": [],
   "source": []
  },
  {
   "cell_type": "markdown",
   "id": "e6d83210-9770-4f9d-a375-4c48545d46f0",
   "metadata": {
    "tags": []
   },
   "source": [
    "Convertir la variable \"nombre\" a mayúsculas"
   ]
  },
  {
   "cell_type": "code",
   "execution_count": null,
   "id": "facc64d0-f7da-47c4-857c-1a1d185c5e06",
   "metadata": {
    "tags": []
   },
   "outputs": [],
   "source": []
  },
  {
   "cell_type": "markdown",
   "id": "9bcc87a4-da94-4deb-81d5-b454711ced6e",
   "metadata": {
    "tags": []
   },
   "source": [
    "Calcular la cantidad de letras en la variable \"nombre\""
   ]
  },
  {
   "cell_type": "code",
   "execution_count": null,
   "id": "26eedcd5-98ce-4a1a-933f-8c18602ea180",
   "metadata": {
    "tags": []
   },
   "outputs": [],
   "source": []
  },
  {
   "cell_type": "markdown",
   "id": "0b712be8-15fd-4331-8202-7b325473f010",
   "metadata": {
    "tags": []
   },
   "source": [
    "Usar \"input\" y \"len\" para calcular el tamaño de la cadena dada por el usuario"
   ]
  },
  {
   "cell_type": "code",
   "execution_count": null,
   "id": "061acc45-3beb-49cd-a397-64275303d7fe",
   "metadata": {
    "tags": []
   },
   "outputs": [],
   "source": []
  },
  {
   "cell_type": "markdown",
   "id": "393f596f-2634-4e07-bc27-ba4d9fe29fba",
   "metadata": {},
   "source": [
    "## 3. Listas"
   ]
  },
  {
   "cell_type": "markdown",
   "id": "a8d998ee-98e9-4439-8ebd-cf43f0f343d2",
   "metadata": {},
   "source": [
    "Crear una lista con nombres"
   ]
  },
  {
   "cell_type": "code",
   "execution_count": null,
   "id": "91adfe60-59f3-4f7c-b26c-47626e5aa55f",
   "metadata": {
    "tags": []
   },
   "outputs": [],
   "source": []
  },
  {
   "cell_type": "markdown",
   "id": "aa72da71-1fe4-4995-a5f4-11798daf32c7",
   "metadata": {},
   "source": [
    "Mostrar el segundo nombre:"
   ]
  },
  {
   "cell_type": "code",
   "execution_count": null,
   "id": "fe29a762-3069-4590-88fe-10a42cd768a6",
   "metadata": {
    "tags": []
   },
   "outputs": [],
   "source": []
  },
  {
   "cell_type": "markdown",
   "id": "ffd24bbc-5e7c-4a0c-8490-2ad0a6079c91",
   "metadata": {},
   "source": [
    "Mostrar todos los nombres a partir del segundo"
   ]
  },
  {
   "cell_type": "code",
   "execution_count": null,
   "id": "afcbabd2-02ca-4e48-b99b-e316088e3f2d",
   "metadata": {
    "tags": []
   },
   "outputs": [],
   "source": []
  },
  {
   "cell_type": "markdown",
   "id": "252b6647-6f17-489f-862d-7f13029709f2",
   "metadata": {},
   "source": [
    "Mostrar los primeros 3 nombres"
   ]
  },
  {
   "cell_type": "code",
   "execution_count": null,
   "id": "91466a55-74d4-4fab-8b98-c70b7e1c249d",
   "metadata": {
    "tags": []
   },
   "outputs": [],
   "source": []
  },
  {
   "cell_type": "markdown",
   "id": "3dd4f997-1b7d-4e84-a643-6d2ec1cbc714",
   "metadata": {
    "tags": []
   },
   "source": [
    "Buscar el indice de \"Maria\""
   ]
  },
  {
   "cell_type": "code",
   "execution_count": null,
   "id": "25d0a349-0176-4b0a-9621-d0c3c2c46eb9",
   "metadata": {
    "tags": []
   },
   "outputs": [],
   "source": []
  },
  {
   "cell_type": "markdown",
   "id": "c30b478c-21b8-4608-bebb-021534b74810",
   "metadata": {},
   "source": [
    "Agregar un nombre a la lista"
   ]
  },
  {
   "cell_type": "code",
   "execution_count": null,
   "id": "2ee3bddf-33f6-499c-bf53-ef9df02c0307",
   "metadata": {
    "tags": []
   },
   "outputs": [],
   "source": []
  },
  {
   "cell_type": "markdown",
   "id": "6a42c9b8-1563-4c2e-b219-90f8fd4cff53",
   "metadata": {},
   "source": [
    "Eliminar el cuarto nombre de la lista"
   ]
  },
  {
   "cell_type": "code",
   "execution_count": null,
   "id": "bd1797f4-8319-4aa1-a5d2-34e05ca7fb1b",
   "metadata": {
    "tags": []
   },
   "outputs": [],
   "source": []
  },
  {
   "cell_type": "markdown",
   "id": "aa0e0247-d4ed-464c-b4d3-6395bec14e7a",
   "metadata": {},
   "source": [
    "Crea una lista de listas en Python, donde cada sublista contenga tres elementos: el nombre del estudiante, la edad y el promedio."
   ]
  },
  {
   "cell_type": "code",
   "execution_count": null,
   "id": "a1b904b1-ea82-43c9-98c0-74b218d3290f",
   "metadata": {
    "tags": []
   },
   "outputs": [],
   "source": []
  },
  {
   "cell_type": "markdown",
   "id": "6cd5501e-020c-45b8-b7cc-70e78e98d193",
   "metadata": {},
   "source": [
    "Mostrar el nombre y promedio del segundo estudiante en una cadena de texto, ej. \"El alumno [Nombre] tiene un promedio de [Promedio]\""
   ]
  },
  {
   "cell_type": "code",
   "execution_count": null,
   "id": "95b4b783-f530-499e-a2e4-8d953f9556fb",
   "metadata": {
    "tags": []
   },
   "outputs": [],
   "source": []
  },
  {
   "cell_type": "markdown",
   "id": "13722cfe-ac79-442a-80dd-5d5f3d8794b0",
   "metadata": {},
   "source": [
    "## Diccionarios"
   ]
  },
  {
   "cell_type": "markdown",
   "id": "d560eec7-fa50-4ebb-b4a2-f94c8632f909",
   "metadata": {
    "tags": []
   },
   "source": [
    "Crear un diccionario con la siguiente información sobre un libro: \"Autor\", \"Año de lanzamiento\", \"Páginas\", \"Costo\", \"EdiciónLim\", \"E-libro\""
   ]
  },
  {
   "cell_type": "code",
   "execution_count": null,
   "id": "c45842eb-0300-4e77-b8d0-2b9b5f103240",
   "metadata": {
    "tags": []
   },
   "outputs": [],
   "source": []
  },
  {
   "cell_type": "markdown",
   "id": "09d4a579-9497-4775-a250-6c20c95fdf2b",
   "metadata": {},
   "source": [
    "Acceder al autor del libro anterior"
   ]
  },
  {
   "cell_type": "code",
   "execution_count": null,
   "id": "02982814-e223-466f-a75e-aaf85eed44a2",
   "metadata": {
    "tags": []
   },
   "outputs": [],
   "source": []
  },
  {
   "cell_type": "markdown",
   "id": "80db6644-3e60-48a4-8373-1b49c8dd5b4d",
   "metadata": {},
   "source": [
    "Agregar el campo \"Género\", debe ser igual a \"Novela\""
   ]
  },
  {
   "cell_type": "code",
   "execution_count": null,
   "id": "4a5e4646-5ae8-41c7-b810-50b280d01d0c",
   "metadata": {
    "tags": []
   },
   "outputs": [],
   "source": []
  },
  {
   "cell_type": "markdown",
   "id": "2a1e8e23-9d12-4480-8e21-c004c68235bb",
   "metadata": {},
   "source": [
    "Eliminar la clave-valor \"Páginas\""
   ]
  },
  {
   "cell_type": "code",
   "execution_count": null,
   "id": "4be828c0-82f4-4f39-b7a2-e4ca63e511ac",
   "metadata": {
    "tags": []
   },
   "outputs": [],
   "source": []
  },
  {
   "cell_type": "code",
   "execution_count": null,
   "id": "3a1aafc4-ff17-4fb1-b129-3d653c084971",
   "metadata": {
    "tags": []
   },
   "outputs": [],
   "source": []
  },
  {
   "cell_type": "markdown",
   "id": "9ea27f17-e347-4308-bc57-5756ba65b4bb",
   "metadata": {},
   "source": [
    "Comprobar si existe la clave-valor \"Autor\""
   ]
  },
  {
   "cell_type": "code",
   "execution_count": null,
   "id": "a18afc98-5ea4-4561-9c47-be12df4dd39a",
   "metadata": {
    "tags": []
   },
   "outputs": [],
   "source": []
  },
  {
   "cell_type": "markdown",
   "id": "fe087fb0-a3d9-430b-bd97-6c1ef395f0f2",
   "metadata": {},
   "source": [
    "Obtener el nombre de todas las llaves en el diccionario \"libro\""
   ]
  },
  {
   "cell_type": "code",
   "execution_count": null,
   "id": "0cabf4fa-d2cf-4495-9798-3af7a3d49e71",
   "metadata": {
    "tags": []
   },
   "outputs": [],
   "source": []
  },
  {
   "cell_type": "markdown",
   "id": "e2d97f53-0724-4cad-a907-b568241e41bf",
   "metadata": {},
   "source": [
    "Obtener todos los valores en el diccionario \"libro\""
   ]
  },
  {
   "cell_type": "code",
   "execution_count": null,
   "id": "d44c0720-5f9b-4dcc-97cd-c81495003e4d",
   "metadata": {
    "tags": []
   },
   "outputs": [],
   "source": []
  },
  {
   "cell_type": "markdown",
   "id": "f87e798e-1d7e-4bba-a8aa-8036bf773929",
   "metadata": {},
   "source": [
    "## Bucle For"
   ]
  },
  {
   "cell_type": "markdown",
   "id": "ebea20a0-3d83-4d95-92df-79f5fc0ead5b",
   "metadata": {},
   "source": [
    "Imprimir los primeros 5 numeros pares:"
   ]
  },
  {
   "cell_type": "code",
   "execution_count": null,
   "id": "1ccbd18c-c908-41dd-83dc-07099668270f",
   "metadata": {
    "tags": []
   },
   "outputs": [],
   "source": []
  },
  {
   "cell_type": "markdown",
   "id": "aacc2185-ec5a-4705-8623-41367e20360f",
   "metadata": {},
   "source": [
    "Imprimir los siguientes nombres"
   ]
  },
  {
   "cell_type": "code",
   "execution_count": null,
   "id": "fe83f105-7925-40a6-a885-b9c8268f6800",
   "metadata": {
    "tags": []
   },
   "outputs": [],
   "source": []
  },
  {
   "cell_type": "code",
   "execution_count": null,
   "id": "4e06fdf0-cc28-497a-8519-f37265642e8e",
   "metadata": {
    "tags": []
   },
   "outputs": [],
   "source": []
  },
  {
   "cell_type": "markdown",
   "id": "30c82ea2-5e78-4074-b787-773ad274929f",
   "metadata": {},
   "source": [
    "Mostrar el nombre y el indice de cada valor en una sola cadena de texto (Ej. \"El nombre Pedro tiene el índice 0\")"
   ]
  },
  {
   "cell_type": "code",
   "execution_count": null,
   "id": "41a623fa-1c96-44be-9170-2f25eff3cff5",
   "metadata": {
    "tags": []
   },
   "outputs": [],
   "source": []
  },
  {
   "cell_type": "markdown",
   "id": "814725bc-059e-418c-b7c0-ef14f39801fe",
   "metadata": {},
   "source": [
    "Utiliza una lista de comprensión para crear una nueva lista que contenga cadenas de texto con el formato \"La persona [índice] se llama [nombre]\""
   ]
  },
  {
   "cell_type": "code",
   "execution_count": null,
   "id": "e515484c-cca6-4a19-9193-1eb0c78697c2",
   "metadata": {
    "tags": []
   },
   "outputs": [],
   "source": []
  },
  {
   "cell_type": "markdown",
   "id": "460035cf-7812-4616-a7e4-58d921d9c503",
   "metadata": {},
   "source": [
    "Usar la siguiente lista de diccionarios para imprimir los datos de cada médico"
   ]
  },
  {
   "cell_type": "code",
   "execution_count": 9,
   "id": "d3f48197-c88d-432f-a6c4-9f693669ad20",
   "metadata": {
    "tags": []
   },
   "outputs": [],
   "source": [
    "doctores = [\n",
    "    {\n",
    "        \"nombre\": \"Dr. Juan Pérez\",\n",
    "        \"especialidad\": \"Cardiología\",\n",
    "        \"antiguedad\": 15\n",
    "    },\n",
    "    {\n",
    "        \"nombre\": \"Dr. Pedro López\",\n",
    "        \"especialidad\": \"Dermatología\",\n",
    "        \"antiguedad\": 10  \n",
    "    },\n",
    "    {\n",
    "        \"nombre\": \"Dr. Carlos Ramírez\",\n",
    "        \"especialidad\": \"Neurología\",\n",
    "        \"antiguedad\": 20  \n",
    "    }\n",
    "]"
   ]
  },
  {
   "cell_type": "code",
   "execution_count": 17,
   "id": "816a78c4",
   "metadata": {},
   "outputs": [
    {
     "name": "stdout",
     "output_type": "stream",
     "text": [
      "{('Dra. López', 'Dermatología'), ('Dr. Pérez', 'Cardiología'), ('Dr. Ramírez', 'Cardiología')}\n"
     ]
    },
    {
     "data": {
      "text/plain": [
       "Counter({'Cardiología': 2, 'Dermatología': 1})"
      ]
     },
     "execution_count": 17,
     "metadata": {},
     "output_type": "execute_result"
    }
   ],
   "source": [
    "from collections import Counter\n",
    "doctoresa = [\n",
    "    {\"nombre\": \"Dr. Ramírez\", \"especialidad\": \"Cardiología\"},\n",
    "    {\"nombre\": \"Dra. López\", \"especialidad\": \"Dermatología\"},\n",
    "    {\"nombre\": \"Dr. Pérez\", \"especialidad\": \"Cardiología\"},\n",
    "]\n",
    "\n",
    "nombres_datos = {(doctor[\"nombre\"], doctor[\"especialidad\"]) for doctor in doctoresa}\n",
    "print(nombres_datos)\n",
    "especialidades = [doctor[\"especialidad\"] for doctor in doctoresa]\n",
    "contador =Counter(especialidades)\n",
    "contador\n"
   ]
  },
  {
   "cell_type": "code",
   "execution_count": 13,
   "id": "2b159563-9b1b-4b94-a2af-dec5792ea1f5",
   "metadata": {
    "tags": []
   },
   "outputs": [
    {
     "data": {
      "text/plain": [
       "{'Mi nombre es Dr. Carlos Ramírez , Neurología , 20',\n",
       " 'Mi nombre es Dr. Juan Pérez , Cardiología , 15',\n",
       " 'Mi nombre es Dr. Pedro López , Dermatología , 10'}"
      ]
     },
     "execution_count": 13,
     "metadata": {},
     "output_type": "execute_result"
    }
   ],
   "source": [
    "nombres_datos ={(f\"Mi nombre es {doctor[\"nombre\"]} , {doctor[\"especialidad\"]} , {doctor[\"antiguedad\"]}\") for doctor in doctores}\n",
    "nombres_datos"
   ]
  },
  {
   "cell_type": "markdown",
   "id": "3b5dc406-e6f4-49aa-822d-57c4ff8ad446",
   "metadata": {
    "tags": []
   },
   "source": [
    "## Condicionales"
   ]
  },
  {
   "cell_type": "markdown",
   "id": "7106fd95-2ca2-4f2d-90b6-5a458a213d17",
   "metadata": {
    "tags": []
   },
   "source": [
    "Usar \"if\" para verificar si la edad dada es mayor o igual a 18, en caso de ser cierto, mostrar \"Es mayor de edad\""
   ]
  },
  {
   "cell_type": "code",
   "execution_count": 22,
   "id": "59ea963d-3978-4183-9a5b-f565f67c19a1",
   "metadata": {
    "tags": []
   },
   "outputs": [
    {
     "data": {
      "text/plain": [
       "'Menor'"
      ]
     },
     "execution_count": 22,
     "metadata": {},
     "output_type": "execute_result"
    }
   ],
   "source": [
    "edad = 16\n",
    "\"Menor\" if 0<edad<18 else \"MAYOR\""
   ]
  },
  {
   "cell_type": "code",
   "execution_count": null,
   "id": "0e564a5a-5201-4c7b-b707-93f6e32c2574",
   "metadata": {
    "tags": []
   },
   "outputs": [],
   "source": []
  },
  {
   "cell_type": "markdown",
   "id": "0a0f04b1-5a5e-4ae6-bf3c-ecf0d7785bd1",
   "metadata": {},
   "source": [
    "Usar \"if\" para verificar si la edad dada es mayor o igual a 18:\n",
    "- En caso de ser cierto, mostrar \"Es mayor de edad\"\n",
    "- En caso de ser falso, mostrar \"Es menor de edad\""
   ]
  },
  {
   "cell_type": "code",
   "execution_count": null,
   "id": "fbb07413-3789-47f4-9655-50569617c3ae",
   "metadata": {
    "tags": []
   },
   "outputs": [],
   "source": []
  },
  {
   "cell_type": "code",
   "execution_count": null,
   "id": "2e0f38d5-91e3-444d-8711-babbc661bc92",
   "metadata": {
    "tags": []
   },
   "outputs": [],
   "source": []
  },
  {
   "cell_type": "markdown",
   "id": "ad092c88-af83-46b2-8735-6b324dfc3779",
   "metadata": {
    "tags": []
   },
   "source": [
    "Usar \"input\" para pedir una contraseña al usuario, posteriormente, aceptarla si tiene un tamaño mayor a 8 y menor a 20 caracteres"
   ]
  },
  {
   "cell_type": "code",
   "execution_count": null,
   "id": "01f5af33-a697-4430-ae84-817198913257",
   "metadata": {
    "tags": []
   },
   "outputs": [],
   "source": []
  },
  {
   "cell_type": "markdown",
   "id": "32000c05-6c3d-4302-af27-29ad4879ec90",
   "metadata": {
    "tags": []
   },
   "source": [
    "Encontrar el numero mayor en la siguiente lista:"
   ]
  },
  {
   "cell_type": "code",
   "execution_count": null,
   "id": "5659d292-4c50-415e-88c4-c641e7fa57c3",
   "metadata": {
    "tags": []
   },
   "outputs": [],
   "source": []
  },
  {
   "cell_type": "code",
   "execution_count": null,
   "id": "5f1f0c23-7dd8-459d-918d-bacc291e99db",
   "metadata": {
    "tags": []
   },
   "outputs": [],
   "source": []
  },
  {
   "cell_type": "markdown",
   "id": "75277cf4-5156-4b03-834c-ca05cda57420",
   "metadata": {
    "tags": []
   },
   "source": [
    "Validar que el correo empiece con dr_ y termine con @medical.com"
   ]
  },
  {
   "cell_type": "code",
   "execution_count": 39,
   "id": "e860ed32-78ac-457a-9e36-6e93eafe3f9b",
   "metadata": {
    "tags": []
   },
   "outputs": [
    {
     "name": "stdout",
     "output_type": "stream",
     "text": [
      "si\n"
     ]
    }
   ],
   "source": [
    "import re\n",
    "correo = \"dr_jaja@medical.com\"\n",
    "patron = r\"^dr_.*@medical\\.com$\"\n",
    "if re.match(patron,correo):\n",
    "    print(\"si\")\n",
    "else:\n",
    "    print(\"no\")"
   ]
  },
  {
   "cell_type": "code",
   "execution_count": null,
   "id": "65d4ac51-8a2e-420a-890d-825ac67c49eb",
   "metadata": {
    "tags": []
   },
   "outputs": [],
   "source": []
  },
  {
   "cell_type": "markdown",
   "id": "43c90449-3f0d-4ae6-8bd9-6564e681e1ae",
   "metadata": {},
   "source": [
    "Validar que el correo termine con \"@medical.com\" o \"@hospital.com\""
   ]
  },
  {
   "cell_type": "code",
   "execution_count": null,
   "id": "442624f3-55f2-4125-b211-7debc4ee4c41",
   "metadata": {
    "tags": []
   },
   "outputs": [],
   "source": []
  },
  {
   "cell_type": "code",
   "execution_count": null,
   "id": "50815e3e-7ac1-4c00-bb21-b9fba8ccfb04",
   "metadata": {
    "tags": []
   },
   "outputs": [],
   "source": []
  },
  {
   "cell_type": "code",
   "execution_count": null,
   "id": "48134269-0dd0-4c0e-8f81-d29f739bc38e",
   "metadata": {},
   "outputs": [],
   "source": []
  },
  {
   "cell_type": "markdown",
   "id": "5d841ebb-7bf2-4751-8660-59914cc7d2ce",
   "metadata": {},
   "source": [
    "## Funciones"
   ]
  },
  {
   "cell_type": "markdown",
   "id": "97c4a61b-e95b-4ac4-8519-e83961a0b1ad",
   "metadata": {},
   "source": [
    "Define una función que solicite al usuario su nombre y luego imprima un mensaje de bienvenida"
   ]
  },
  {
   "cell_type": "code",
   "execution_count": null,
   "id": "208462d9-a034-4919-a797-a4949c5dad0a",
   "metadata": {
    "tags": []
   },
   "outputs": [],
   "source": []
  },
  {
   "cell_type": "markdown",
   "id": "cd7db0ae-ac60-484e-89f5-c44666acf983",
   "metadata": {},
   "source": [
    "Define una función que calcule y devuelva el área de un círculo dado su radio"
   ]
  },
  {
   "cell_type": "code",
   "execution_count": null,
   "id": "99a7b0fb-2390-49cb-9d2e-4ee46ef24231",
   "metadata": {
    "tags": []
   },
   "outputs": [],
   "source": []
  },
  {
   "cell_type": "markdown",
   "id": "118882b6-e898-4a95-8453-7edcc40c8782",
   "metadata": {},
   "source": [
    "Define una función que calcule y devuelva el precio total de un producto dado su precio base y un impuesto (por defecto del 16%)"
   ]
  },
  {
   "cell_type": "code",
   "execution_count": null,
   "id": "df64d51e-cf4d-498f-b333-f8c2a5e46018",
   "metadata": {},
   "outputs": [],
   "source": []
  },
  {
   "cell_type": "markdown",
   "id": "b06d8fd1-98e9-484b-aa05-eb4bf729e8ca",
   "metadata": {},
   "source": [
    "Define una función que reciba un número variable de argumentos y devuelva el promedio de dichos números."
   ]
  },
  {
   "cell_type": "code",
   "execution_count": null,
   "id": "0c8fee66-16f9-446d-89a1-3afaa39f273d",
   "metadata": {},
   "outputs": [],
   "source": [
    "              "
   ]
  },
  {
   "cell_type": "markdown",
   "id": "84a28c67-2474-4e0a-9414-21dcc72820a8",
   "metadata": {},
   "source": [
    "## Numpy"
   ]
  },
  {
   "cell_type": "code",
   "execution_count": null,
   "id": "355f99f4-c0b8-40ce-b13e-07b2c2d8fcaf",
   "metadata": {
    "tags": []
   },
   "outputs": [],
   "source": []
  },
  {
   "cell_type": "markdown",
   "id": "e9a0927d-4670-4c47-91fc-a1308548fe36",
   "metadata": {
    "tags": []
   },
   "source": [
    "Crear un array con los precios de una cafetería"
   ]
  },
  {
   "cell_type": "code",
   "execution_count": null,
   "id": "3a8f0888-c6ae-436a-9465-6789031b43b5",
   "metadata": {
    "tags": []
   },
   "outputs": [],
   "source": []
  },
  {
   "cell_type": "markdown",
   "id": "c2ef00b4-2a5d-4cb3-aa7d-3df02d750922",
   "metadata": {},
   "source": [
    "Crear un array de NumPy utilizando los datos de la variable \"precios\" "
   ]
  },
  {
   "cell_type": "code",
   "execution_count": null,
   "id": "43bedc29-a647-4f68-a67d-3d4b5b836a71",
   "metadata": {
    "tags": []
   },
   "outputs": [],
   "source": []
  },
  {
   "cell_type": "markdown",
   "id": "3107a9d2-63a2-47a4-b5dc-5cb9d20c5bc0",
   "metadata": {},
   "source": [
    "Sumar 3 unidades a cada elemento del array \"precios\"."
   ]
  },
  {
   "cell_type": "code",
   "execution_count": null,
   "id": "ebeef584-f592-41bc-b455-b777ddd6c128",
   "metadata": {
    "tags": []
   },
   "outputs": [],
   "source": []
  },
  {
   "cell_type": "markdown",
   "id": "c406e766-5be6-4c62-8cf1-f9ee47d476ae",
   "metadata": {},
   "source": [
    "Seleccionar el segundo valor en la lista"
   ]
  },
  {
   "cell_type": "code",
   "execution_count": null,
   "id": "69484c74-27ff-49fc-b456-726d41ebe9fe",
   "metadata": {
    "tags": []
   },
   "outputs": [],
   "source": []
  },
  {
   "cell_type": "markdown",
   "id": "72520663-99ba-4cd2-b4de-db11cb8600cc",
   "metadata": {},
   "source": [
    "Agregar el precio 6.0 al array de numpy"
   ]
  },
  {
   "cell_type": "code",
   "execution_count": null,
   "id": "61ef7e78-1fc4-47c9-9638-c6a46ce747ae",
   "metadata": {
    "tags": []
   },
   "outputs": [],
   "source": []
  },
  {
   "cell_type": "markdown",
   "id": "db26b2b3-511a-4454-885a-dc4f756eae55",
   "metadata": {},
   "source": [
    "Borrar el elemento con índice 2"
   ]
  },
  {
   "cell_type": "code",
   "execution_count": null,
   "id": "5cd66efc-3bbb-4982-8cc7-c4af8f46f2d3",
   "metadata": {
    "tags": []
   },
   "outputs": [],
   "source": []
  },
  {
   "cell_type": "markdown",
   "id": "e44d1900-585e-466c-9e9f-e7b1450673b5",
   "metadata": {},
   "source": [
    "Filtrar y mostrar los elementos del array \"precios\" que sean menores a 5."
   ]
  },
  {
   "cell_type": "code",
   "execution_count": null,
   "id": "b1af12ce-c0f8-4b77-9b26-7a9d1e18da60",
   "metadata": {
    "tags": []
   },
   "outputs": [],
   "source": []
  },
  {
   "cell_type": "markdown",
   "id": "1d15de22-3161-4351-bdec-0311f29d2ad3",
   "metadata": {},
   "source": [
    "Obtener el valor mínimo, el valor máximo, el promedio y la desviación estándar de los elementos en el array \"precios\""
   ]
  },
  {
   "cell_type": "code",
   "execution_count": null,
   "id": "ec188f61-d9fe-4a93-91a6-557bc3a933f9",
   "metadata": {
    "tags": []
   },
   "outputs": [],
   "source": []
  },
  {
   "cell_type": "code",
   "execution_count": null,
   "id": "2f026e47-2785-418c-83c7-0a0a2e69aed8",
   "metadata": {
    "tags": []
   },
   "outputs": [],
   "source": []
  },
  {
   "cell_type": "code",
   "execution_count": null,
   "id": "9a08051a-a070-442b-a3b8-d485a52aaf66",
   "metadata": {
    "tags": []
   },
   "outputs": [],
   "source": []
  },
  {
   "cell_type": "code",
   "execution_count": null,
   "id": "dab16bfb-2a6b-433f-8703-767569a7f027",
   "metadata": {
    "tags": []
   },
   "outputs": [],
   "source": []
  },
  {
   "cell_type": "markdown",
   "id": "6ad0091f-933f-488e-9a2c-9ee7b215fb33",
   "metadata": {},
   "source": [
    "Crear un array de NumPy utilizando los datos de la variable \"calif_esp\" y asignarlo a la variable \"calif_arr\""
   ]
  },
  {
   "cell_type": "code",
   "execution_count": 61,
   "id": "fe36a8f6-99d7-4733-addf-b5f4ebc4aedd",
   "metadata": {
    "tags": []
   },
   "outputs": [],
   "source": [
    "calif_esp=[\n",
    "    [85, 90, 78], \n",
    "    [88, 92, 80], \n",
    "    [87, 91, 83], \n",
    "    [84, 85, 82]  \n",
    "]"
   ]
  },
  {
   "cell_type": "code",
   "execution_count": null,
   "id": "8394d0bb-b012-4f21-9372-0c5beeca97da",
   "metadata": {
    "tags": []
   },
   "outputs": [],
   "source": []
  },
  {
   "cell_type": "markdown",
   "id": "f4d1a64f-c586-4abe-9c91-bec4d5274560",
   "metadata": {},
   "source": [
    "Obtener la forma (shape) del array \"calif_arr\""
   ]
  },
  {
   "cell_type": "code",
   "execution_count": null,
   "id": "036913e1-8810-4f4a-8178-c0496c62ee98",
   "metadata": {
    "tags": []
   },
   "outputs": [],
   "source": []
  },
  {
   "cell_type": "markdown",
   "id": "2174a13c-c074-43db-b131-e707deaacb29",
   "metadata": {},
   "source": [
    "Obtener el número de dimensiones (ndim) del array \"calif_arr\"."
   ]
  },
  {
   "cell_type": "code",
   "execution_count": null,
   "id": "9a9c1243-3131-40c3-90e0-7897c3dea51b",
   "metadata": {
    "tags": []
   },
   "outputs": [],
   "source": []
  },
  {
   "cell_type": "markdown",
   "id": "e4cf6d10-f302-42e8-8608-eb82f1a57623",
   "metadata": {},
   "source": [
    "Obtener el número total de elementos (size) en el array \"calif_arr\"."
   ]
  },
  {
   "cell_type": "code",
   "execution_count": null,
   "id": "61d1ce5b-dade-4a1d-8e80-4787994d55ce",
   "metadata": {
    "tags": []
   },
   "outputs": [],
   "source": []
  },
  {
   "cell_type": "markdown",
   "id": "4b39584a-2b75-455a-8020-340e168549d1",
   "metadata": {},
   "source": [
    "Reorganizar el array \"calif_arr\" para que tenga una forma de 2 filas y 6 columnas utilizando el método \"reshape\""
   ]
  },
  {
   "cell_type": "code",
   "execution_count": null,
   "id": "ff889dc2-9826-438e-bd4d-ba0ce70d09be",
   "metadata": {
    "tags": []
   },
   "outputs": [],
   "source": []
  },
  {
   "cell_type": "markdown",
   "id": "6cf43659-fc75-45b8-8b40-1d3e49f1c484",
   "metadata": {},
   "source": [
    "Crear una matriz de NumPy llena de ceros con dimensiones de 2 filas y 5 columnas utilizando \"zeros\""
   ]
  },
  {
   "cell_type": "code",
   "execution_count": null,
   "id": "68e685df-abef-445d-834c-79be33593af3",
   "metadata": {
    "tags": []
   },
   "outputs": [],
   "source": []
  },
  {
   "cell_type": "markdown",
   "id": "9885bda0-ffdd-4193-9315-566bac044d2b",
   "metadata": {},
   "source": [
    "Crear un array de NumPy que contenga números en un rango desde 0 hasta 15 (exclusivo), con una distancia de 3 unidades, utilizando \"arange\""
   ]
  },
  {
   "cell_type": "code",
   "execution_count": null,
   "id": "0fbf8bde-4216-4d36-abf2-8998095da247",
   "metadata": {
    "tags": []
   },
   "outputs": [],
   "source": []
  },
  {
   "cell_type": "markdown",
   "id": "1bd8c842-b669-42a3-a15f-7f7ad0f7ad87",
   "metadata": {},
   "source": [
    "Crear un array de NumPy que contenga 6 valores equidistantes en el intervalo de 0 a 10 (incluyendo el inicio y final), utilizando \"linspace\""
   ]
  },
  {
   "cell_type": "code",
   "execution_count": null,
   "id": "2d64389e-1620-4d27-bf27-c780f850ba07",
   "metadata": {
    "tags": []
   },
   "outputs": [],
   "source": []
  },
  {
   "cell_type": "markdown",
   "id": "5c439a26-f43f-4d19-8346-e16281be9874",
   "metadata": {},
   "source": [
    "Crear un generador de números aleatorios (rg) con la semilla igual a 2"
   ]
  },
  {
   "cell_type": "code",
   "execution_count": null,
   "id": "cbb0a03b-24eb-4ddb-9313-f4d2bb5b86d7",
   "metadata": {
    "tags": []
   },
   "outputs": [],
   "source": []
  },
  {
   "cell_type": "markdown",
   "id": "7e51f520-0725-4a3a-9ab6-62a9cf756d1f",
   "metadata": {},
   "source": [
    "Generar un array de 300 números aleatorios entre 0 y 1 utilizando el generador de números aleatorios rg creado previamente"
   ]
  },
  {
   "cell_type": "code",
   "execution_count": null,
   "id": "a3a2d459-15a3-455e-abb6-a2e6f96378d8",
   "metadata": {
    "tags": []
   },
   "outputs": [],
   "source": []
  },
  {
   "cell_type": "markdown",
   "id": "2b58d495-1885-48ac-92eb-94f31a736bc0",
   "metadata": {},
   "source": [
    "Crear un histograma utilizando matplotlib para visualizar la distribución de los datos"
   ]
  },
  {
   "cell_type": "code",
   "execution_count": null,
   "id": "9f5f1926-ad7b-47c6-8a5a-3b6d7e03a75f",
   "metadata": {
    "tags": []
   },
   "outputs": [],
   "source": []
  },
  {
   "cell_type": "markdown",
   "id": "53981499-c49a-46f0-9019-34510ffd3625",
   "metadata": {},
   "source": [
    "Generar un array de 400 números aleatorios distribuidos normalmente con media 20 y desviación estándar 10 utilizando el generador de números aleatorios \"rg\""
   ]
  },
  {
   "cell_type": "code",
   "execution_count": null,
   "id": "9087edc7-dc7a-4335-97c4-385e4c47abec",
   "metadata": {
    "tags": []
   },
   "outputs": [],
   "source": []
  },
  {
   "cell_type": "markdown",
   "id": "05129468-e062-4d4e-b405-9e0b9ef8cf6c",
   "metadata": {},
   "source": [
    "Crear un histograma utilizando matplotlib con los datos aleatorios anteriores, siguiendo la distribución normal, dividido en 20 bins"
   ]
  },
  {
   "cell_type": "code",
   "execution_count": null,
   "id": "45e7f4ec-2a7e-4a03-a80f-da32fc4a45e2",
   "metadata": {},
   "outputs": [],
   "source": []
  },
  {
   "cell_type": "markdown",
   "id": "e0b95686-6fa1-402a-a810-d1538260cf18",
   "metadata": {},
   "source": [
    "## Pandas"
   ]
  },
  {
   "cell_type": "code",
   "execution_count": 75,
   "id": "229cb0fa-cd8e-4caa-b439-4a20b3245a20",
   "metadata": {},
   "outputs": [],
   "source": [
    "import pandas as pd"
   ]
  },
  {
   "cell_type": "markdown",
   "id": "f7bf1730-4310-46e9-96af-f304494ff348",
   "metadata": {},
   "source": [
    "Crear una Serie de pandas llamada amigos que use la lista \"edades\" como valores y la lista \"nombres\" como índices:"
   ]
  },
  {
   "cell_type": "code",
   "execution_count": 77,
   "id": "cfaedd14-3bf8-47cf-9ae4-e369b32d9400",
   "metadata": {
    "tags": []
   },
   "outputs": [],
   "source": [
    "nombres= ['Juan', 'Ana', 'Pedro', 'Maria', 'Luis']\n",
    "edades=[25, 30, 35, 40, 45]"
   ]
  },
  {
   "cell_type": "code",
   "execution_count": null,
   "id": "b31fcaec-8938-4a23-abf7-b51cf70631d5",
   "metadata": {
    "tags": []
   },
   "outputs": [],
   "source": []
  },
  {
   "cell_type": "markdown",
   "id": "5edcc4fb-5cea-47fb-b1de-75936629e64c",
   "metadata": {},
   "source": [
    "Acceder al valor asociado con el índice \"Juan\" en la Serie amigos"
   ]
  },
  {
   "cell_type": "code",
   "execution_count": null,
   "id": "910a459d-e557-4b27-a1d7-6e8994cc0483",
   "metadata": {
    "tags": []
   },
   "outputs": [],
   "source": []
  },
  {
   "cell_type": "markdown",
   "id": "abc77b25-2d33-4b54-a29f-a332445dfbe3",
   "metadata": {},
   "source": [
    "Obtener todos los valores de la Serie amigos:"
   ]
  },
  {
   "cell_type": "code",
   "execution_count": null,
   "id": "26766918-fcda-4d86-9e46-e603836a513d",
   "metadata": {
    "tags": []
   },
   "outputs": [],
   "source": []
  },
  {
   "cell_type": "markdown",
   "id": "604882ef-6265-4eec-8db5-785ca898631e",
   "metadata": {
    "tags": []
   },
   "source": [
    "Obtener todos los índices de la Serie amigos:"
   ]
  },
  {
   "cell_type": "code",
   "execution_count": null,
   "id": "9264fe7d-f2c6-4722-a562-c9c098563dbe",
   "metadata": {
    "tags": []
   },
   "outputs": [],
   "source": []
  },
  {
   "cell_type": "markdown",
   "id": "9843c02a-defc-4488-81b9-4fdae92b0af3",
   "metadata": {},
   "source": [
    "Mostrar los primeros dos elementos de la Serie \"amigos\""
   ]
  },
  {
   "cell_type": "code",
   "execution_count": null,
   "id": "0a3e0bf5-1125-45aa-81f2-943b50aac273",
   "metadata": {
    "tags": []
   },
   "outputs": [],
   "source": []
  },
  {
   "cell_type": "markdown",
   "id": "3585789d-8928-4898-8a43-ee8a8e80402a",
   "metadata": {},
   "source": [
    "Mostrar los últimos dos elementos de la Serie amigos:"
   ]
  },
  {
   "cell_type": "code",
   "execution_count": null,
   "id": "086c6a37-912f-4d98-acce-7d74c167bc19",
   "metadata": {
    "tags": []
   },
   "outputs": [],
   "source": []
  },
  {
   "cell_type": "markdown",
   "id": "320aed20-c573-4147-9e04-324c2556faf5",
   "metadata": {},
   "source": [
    "Ordenar los valores de la Serie amigos en orden ascendente"
   ]
  },
  {
   "cell_type": "code",
   "execution_count": null,
   "id": "5dbc202f-31cf-4763-a7bc-c893b7fdf945",
   "metadata": {
    "tags": []
   },
   "outputs": [],
   "source": []
  },
  {
   "cell_type": "markdown",
   "id": "4c2ee295-5140-4c06-86c4-4cbfa3e6f8ab",
   "metadata": {},
   "source": [
    "Convertir la lista de strings \"fechas_str\" en un objeto Series de pandas de tipo datetime, y asignarlo a la variable cumpleaños"
   ]
  },
  {
   "cell_type": "code",
   "execution_count": 85,
   "id": "cea7e275-ec9a-4164-9229-f79391216d76",
   "metadata": {
    "tags": []
   },
   "outputs": [],
   "source": [
    "fechas_str = [\"1998-10-01\", \"2000-05-15\", \"1995-08-20\", \"1992-04-30\", \"1987-11-12\"]"
   ]
  },
  {
   "cell_type": "code",
   "execution_count": null,
   "id": "9f671cab-a6db-4ac7-995b-e0630a002e96",
   "metadata": {
    "tags": []
   },
   "outputs": [],
   "source": []
  },
  {
   "cell_type": "markdown",
   "id": "2b534370-fe6f-4452-bd6e-2ab864e4f387",
   "metadata": {},
   "source": [
    "Obtener el día del mes para cada fecha en la Serie \"cumpleaños\""
   ]
  },
  {
   "cell_type": "code",
   "execution_count": null,
   "id": "e6d16c37-61ed-4cd2-ba38-262b97901990",
   "metadata": {
    "tags": []
   },
   "outputs": [],
   "source": []
  },
  {
   "cell_type": "markdown",
   "id": "0f71708a-6ca4-4a5a-b1fe-c291b04856f9",
   "metadata": {},
   "source": [
    "Obtener el mes para cada fecha en la Serie \"cumpleaños\""
   ]
  },
  {
   "cell_type": "code",
   "execution_count": null,
   "id": "91c23bef-c50f-474f-8f0f-2074fba4899d",
   "metadata": {
    "tags": []
   },
   "outputs": [],
   "source": []
  },
  {
   "cell_type": "markdown",
   "id": "b457235d-152b-4e99-a9d3-5f630b4140e3",
   "metadata": {},
   "source": [
    "Obtener el día de la semana para cada fecha en la Serie cumpleaños"
   ]
  },
  {
   "cell_type": "code",
   "execution_count": null,
   "id": "7a091580-49b6-466e-9e32-5a9ccf93badb",
   "metadata": {
    "tags": []
   },
   "outputs": [],
   "source": []
  },
  {
   "cell_type": "markdown",
   "id": "2bcc4a7d-2ac0-458d-92d1-ec470027b8d3",
   "metadata": {},
   "source": [
    "Formatear cada fecha en la Serie cumpleaños al formato \"mm/dd/yy\""
   ]
  },
  {
   "cell_type": "code",
   "execution_count": null,
   "id": "4d9eae98-088d-4673-b277-61338cde654d",
   "metadata": {
    "tags": []
   },
   "outputs": [],
   "source": []
  },
  {
   "cell_type": "markdown",
   "id": "8a6fbe27-cfb0-42e5-ae8d-004b67a81a8a",
   "metadata": {
    "tags": []
   },
   "source": [
    "Crear un DataFrame de pandas utilizando la lista de diccionarios futbolistas, estableciendo la columna \"id\" como índice:"
   ]
  },
  {
   "cell_type": "code",
   "execution_count": 91,
   "id": "acf38fa8-1b1a-4818-befb-575b8c823b70",
   "metadata": {
    "tags": []
   },
   "outputs": [],
   "source": [
    "futbolistas = [\n",
    "    {\"id\": 1, \"nombre\": \"Juan Pérez\", \"horas_entrenamiento\": 20, \"posición\": \"Delantero\", \"liga\": 1},\n",
    "    {\"id\": 2, \"nombre\": \"Carlos Ruiz\", \"horas_entrenamiento\": 18, \"posición\": \"Defensa\", \"liga\": 1},\n",
    "    {\"id\": 3, \"nombre\": \"Luis Gómez\", \"horas_entrenamiento\": 22, \"posición\": \"Centrocampista\", \"liga\": 1},\n",
    "    {\"id\": 4, \"nombre\": \"Miguel Fernández\", \"horas_entrenamiento\": 19, \"posición\": \"Portero\", \"liga\": 1},\n",
    "    {\"id\": 5, \"nombre\": \"Andrés Martínez\", \"horas_entrenamiento\": 21, \"posición\": \"Delantero\", \"liga\": 1},\n",
    "    {\"id\": 6, \"nombre\": \"Pedro Sánchez\", \"horas_entrenamiento\": 20, \"posición\": \"Centrocampista\", \"liga\": 2},\n",
    "    {\"id\": 7, \"nombre\": \"José López\", \"horas_entrenamiento\": 17, \"posición\": \"Defensa\", \"liga\": 2},\n",
    "    {\"id\": 8, \"nombre\": \"Fernando Díaz\", \"horas_entrenamiento\": 23, \"posición\": \"Delantero\", \"liga\": 2},\n",
    "    {\"id\": 9, \"nombre\": \"David Herrera\", \"horas_entrenamiento\": 16, \"posición\": \"Portero\", \"liga\": 2},\n",
    "    {\"id\": 10, \"nombre\": \"Rafael González\", \"horas_entrenamiento\": 19, \"posición\": \"Defensa\", \"liga\": 2},\n",
    "    {\"id\": 11, \"nombre\": \"Alberto Ramírez\", \"horas_entrenamiento\": 21, \"posición\": \"Delantero\", \"liga\": 3},\n",
    "    {\"id\": 12, \"nombre\": \"Gabriel Muñoz\", \"horas_entrenamiento\": 18, \"posición\": \"Centrocampista\", \"liga\": 3},\n",
    "    {\"id\": 13, \"nombre\": \"Mario Castillo\", \"horas_entrenamiento\": 20, \"posición\": \"Defensa\", \"liga\": 3},\n",
    "    {\"id\": 14, \"nombre\": \"Enrique Jiménez\", \"horas_entrenamiento\": 17, \"posición\": \"Portero\", \"liga\": 3},\n",
    "    {\"id\": 15, \"nombre\": \"Jorge Romero\", \"horas_entrenamiento\": 22, \"posición\": \"Delantero\", \"liga\": 4},\n",
    "    {\"id\": 16, \"nombre\": \"Ricardo Hernández\", \"horas_entrenamiento\": 19, \"posición\": \"Defensa\", \"liga\": 4},\n",
    "    {\"id\": 17, \"nombre\": \"Diego Vega\", \"horas_entrenamiento\": 20, \"posición\": \"Centrocampista\", \"liga\": 4},\n",
    "    {\"id\": 18, \"nombre\": \"Adrián Navarro\", \"horas_entrenamiento\": 21, \"posición\": \"Portero\", \"liga\": 4},\n",
    "    {\"id\": 19, \"nombre\": \"Pablo Flores\", \"horas_entrenamiento\": 23, \"posición\": \"Delantero\", \"liga\": 1},\n",
    "    {\"id\": 20, \"nombre\": \"Santiago Torres\", \"horas_entrenamiento\": 16, \"posición\": \"Defensa\", \"liga\": 1}\n",
    "]"
   ]
  },
  {
   "cell_type": "code",
   "execution_count": null,
   "id": "085ddbc7-5368-489e-963d-f49fca6d0de4",
   "metadata": {
    "tags": []
   },
   "outputs": [],
   "source": []
  },
  {
   "cell_type": "markdown",
   "id": "9fdadd0d-67ba-4018-bfaa-a145f93ac7bb",
   "metadata": {},
   "source": [
    "Seleccionar las columnas \"nombre\" y \"posición\" del DataFrame \"futbolistas\""
   ]
  },
  {
   "cell_type": "code",
   "execution_count": null,
   "id": "ab30d5e7-b528-4bf1-b060-2c6cd5985d08",
   "metadata": {
    "tags": []
   },
   "outputs": [],
   "source": []
  },
  {
   "cell_type": "markdown",
   "id": "7dab2767-722f-4cc9-8c6c-d0711d44f70d",
   "metadata": {},
   "source": [
    "Seleccionar las filas con índices 1 y 2, y las columnas \"nombre\" y \"horas_entrenamiento\" del DataFrame \"futbolistas\""
   ]
  },
  {
   "cell_type": "code",
   "execution_count": null,
   "id": "9f914157-fa0b-4187-bb82-f7a7791c8955",
   "metadata": {
    "tags": []
   },
   "outputs": [],
   "source": []
  },
  {
   "cell_type": "markdown",
   "id": "f7970df8-eec0-46a6-bd4a-2cb9d0d25504",
   "metadata": {},
   "source": [
    "Seleccionar las filas en las posiciones 1, 3 y 4, y las columnas en las posiciones 0 y 2 del DataFrame \"futbolistas\""
   ]
  },
  {
   "cell_type": "code",
   "execution_count": null,
   "id": "bf6912ff-fbd9-4c1c-b896-b1ed379d0395",
   "metadata": {
    "tags": []
   },
   "outputs": [],
   "source": []
  },
  {
   "cell_type": "markdown",
   "id": "fa99de4f-2a59-4d0e-b09e-7738fdc2e643",
   "metadata": {},
   "source": [
    "Calcular el promedio de las horas de entrenamiento agrupado por la columna \"posición\" en el DataFrame \"futbolistas\""
   ]
  },
  {
   "cell_type": "code",
   "execution_count": null,
   "id": "56957590-50ad-4b5c-ae20-ff10108c8a3e",
   "metadata": {
    "tags": []
   },
   "outputs": [],
   "source": []
  },
  {
   "cell_type": "markdown",
   "id": "a32b15f8-5168-4abf-a4f9-6c1191d7f68f",
   "metadata": {},
   "source": [
    "Crear una tabla pivote en el DataFrame futbolistas, donde se muestre el mínimo de horas de entrenamiento para cada posición y liga"
   ]
  },
  {
   "cell_type": "code",
   "execution_count": null,
   "id": "5253780e-379c-4dd4-9540-f1b59b14bb68",
   "metadata": {
    "tags": []
   },
   "outputs": [],
   "source": []
  },
  {
   "cell_type": "markdown",
   "id": "586e1d13-2951-4388-b06e-57fd8236c1cd",
   "metadata": {},
   "source": [
    "## Matplotlib"
   ]
  },
  {
   "cell_type": "code",
   "execution_count": null,
   "id": "4192f584-4739-4288-8016-88f217b4f973",
   "metadata": {
    "tags": []
   },
   "outputs": [],
   "source": []
  },
  {
   "cell_type": "markdown",
   "id": "2e2bb976-02bf-4886-8bce-d969f382fc34",
   "metadata": {},
   "source": [
    "Leer un archivo Excel llamado \"futbolistas.xlsx\" desde la carpeta \"DB\", estableciendo la columna \"Id\" como índice y parseando la columna \"Nacimiento\" como fecha"
   ]
  },
  {
   "cell_type": "code",
   "execution_count": null,
   "id": "662f97f8-e1b0-4218-b00b-aade08c3fad6",
   "metadata": {
    "tags": []
   },
   "outputs": [],
   "source": []
  },
  {
   "cell_type": "markdown",
   "id": "9780c3de-a73b-4955-a9f1-d6a99a64b9b9",
   "metadata": {},
   "source": [
    "Crear un gráfico de dispersión con las \"horas de entrenamiento\" en el eje x y el \"precio\" en el eje y"
   ]
  },
  {
   "cell_type": "code",
   "execution_count": null,
   "id": "29b1779e-6df4-4bd3-a48e-f0cc1296cae0",
   "metadata": {
    "tags": []
   },
   "outputs": [],
   "source": []
  },
  {
   "cell_type": "markdown",
   "id": "e3fae701-b067-4d60-b331-3b8d977ee1c6",
   "metadata": {},
   "source": [
    "Crear un gráfico de pastel con la distribución de jugadores por liga del DataFrame \"futbolistas\""
   ]
  },
  {
   "cell_type": "code",
   "execution_count": null,
   "id": "1764f9f9-0f69-48fc-b9dd-e3bc050755d7",
   "metadata": {
    "tags": []
   },
   "outputs": [],
   "source": []
  },
  {
   "cell_type": "markdown",
   "id": "4d9a5210-9341-4681-aaa0-d0ad70356d58",
   "metadata": {},
   "source": [
    "Crear una tabla pivote con las horas de entrenamiento según las prácticas y si fuman o no en el DataFrame \"futbolistas\""
   ]
  },
  {
   "cell_type": "code",
   "execution_count": null,
   "id": "3a08f413-1996-477f-8053-419c5b9a845f",
   "metadata": {
    "tags": []
   },
   "outputs": [],
   "source": []
  },
  {
   "cell_type": "markdown",
   "id": "4c5dd863-6fab-491f-9602-7ecd74e4170f",
   "metadata": {},
   "source": [
    "Crear un gráfico de barras con las horas de entrenamiento según las prácticas y si fuman o no"
   ]
  },
  {
   "cell_type": "code",
   "execution_count": null,
   "id": "bd90b95a-4eae-42ca-9535-cc23cdf99b09",
   "metadata": {
    "tags": []
   },
   "outputs": [],
   "source": []
  },
  {
   "cell_type": "markdown",
   "id": "141bd6f1-e795-4f0d-aca8-7c5a647f042e",
   "metadata": {},
   "source": [
    "Crear un gráfico de barras con subplots para cada categoría de \"Fuma\" en la tabla pivote "
   ]
  },
  {
   "cell_type": "code",
   "execution_count": null,
   "id": "c57f46ac-ee0f-4f10-8392-cbfad92883d9",
   "metadata": {},
   "outputs": [],
   "source": []
  },
  {
   "cell_type": "markdown",
   "id": "fa8c1c79-48df-4bd0-b7b1-a7d51e0a994c",
   "metadata": {
    "tags": []
   },
   "source": [
    "Crear un histograma de la columna 'Juegos' del DataFrame \"futbolistas\""
   ]
  },
  {
   "cell_type": "code",
   "execution_count": null,
   "id": "9f12190f-27f3-4ffc-a4d7-c890a32adb29",
   "metadata": {
    "tags": []
   },
   "outputs": [],
   "source": []
  },
  {
   "cell_type": "markdown",
   "id": "648fedf7-18d8-4976-8363-a8950790868e",
   "metadata": {},
   "source": [
    "Calcular un histograma utilizando NumPy con los datos de la columna 'Juegos' del DataFrame futbolistas"
   ]
  },
  {
   "cell_type": "code",
   "execution_count": null,
   "id": "1ac50350-cf73-45da-8e7b-d6b31796675b",
   "metadata": {},
   "outputs": [],
   "source": []
  },
  {
   "cell_type": "markdown",
   "id": "69d78911-cf52-4f68-8613-ff828d0c0ff2",
   "metadata": {},
   "source": [
    "## Seaborn"
   ]
  },
  {
   "cell_type": "code",
   "execution_count": 107,
   "id": "8de07e64-d8db-462a-b766-01de96f4ea5e",
   "metadata": {},
   "outputs": [],
   "source": [
    "import seaborn as sns"
   ]
  },
  {
   "cell_type": "markdown",
   "id": "ff170daf-699e-4e7c-b6d7-576e0e336bb3",
   "metadata": {
    "tags": []
   },
   "source": [
    "Crea un diagrama de cajas utilizando \"boxplot\" para mostrar la distribución de los precios en función de si los futbolistas asisten al gimnasio o no"
   ]
  },
  {
   "cell_type": "code",
   "execution_count": null,
   "id": "18f3159c-fbb3-456f-9af6-8efe810d1c8e",
   "metadata": {
    "tags": []
   },
   "outputs": [],
   "source": []
  },
  {
   "cell_type": "markdown",
   "id": "b81d03e1-3b9a-4de3-8bc8-172179acd03a",
   "metadata": {},
   "source": [
    "Calcula los cuartiles y los límites para el diagrama de cajas usando los datos de la columna \"Precio\" y el agrupamiento por \"Gimnasio\""
   ]
  },
  {
   "cell_type": "code",
   "execution_count": null,
   "id": "774885ad-01ef-4a90-9803-3e3d387d65bb",
   "metadata": {
    "tags": []
   },
   "outputs": [],
   "source": []
  },
  {
   "cell_type": "markdown",
   "id": "1fd0ffb5-01c0-43c3-a4aa-46126c74dd59",
   "metadata": {},
   "source": [
    "Crea una gráfica de puntos con jitter para mostrar la distribución de la altura por liga utilizando \"stripplot\""
   ]
  },
  {
   "cell_type": "code",
   "execution_count": null,
   "id": "f70d8eaa-c588-4e2d-bc29-d15cc9933790",
   "metadata": {
    "tags": []
   },
   "outputs": [],
   "source": [
    "\n"
   ]
  },
  {
   "cell_type": "markdown",
   "id": "39095926-0283-4be7-a234-6eec9692feaa",
   "metadata": {},
   "source": [
    "Calcula la matriz de correlación de las columnas numéricas del DataFrame \"futbolistas\" utilizando \"corr\""
   ]
  },
  {
   "cell_type": "code",
   "execution_count": 112,
   "id": "9b3160f1-383e-4d68-b2aa-663e8e41ba4a",
   "metadata": {},
   "outputs": [],
   "source": [
    "\n",
    "# Entre 0 y 0,10: correlación inexistente\n",
    "# Entre 0,10 y 0,29: correlación débil\n",
    "# Entre 0,30 y 0,50: correlación moderada\n",
    "# Entre 0,50 y 1,00: correlación fuerte"
   ]
  },
  {
   "cell_type": "markdown",
   "id": "4f9e7c2a-4808-4783-9f72-5fb9f9bd2a9c",
   "metadata": {},
   "source": [
    "Crea un heatmap de la matriz de correlación corr con anotaciones, utilizando una paleta de colores 'coolwarm', centrada en 0 y con líneas de separación de 0.5"
   ]
  },
  {
   "cell_type": "code",
   "execution_count": null,
   "id": "247311e4-12ba-468d-bf40-78b67f56e316",
   "metadata": {
    "tags": []
   },
   "outputs": [],
   "source": []
  }
 ],
 "metadata": {
  "kernelspec": {
   "display_name": "base",
   "language": "python",
   "name": "python3"
  },
  "language_info": {
   "codemirror_mode": {
    "name": "ipython",
    "version": 3
   },
   "file_extension": ".py",
   "mimetype": "text/x-python",
   "name": "python",
   "nbconvert_exporter": "python",
   "pygments_lexer": "ipython3",
   "version": "3.12.7"
  }
 },
 "nbformat": 4,
 "nbformat_minor": 5
}
